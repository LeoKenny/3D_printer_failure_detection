{
 "cells": [
  {
   "cell_type": "code",
   "execution_count": 1,
   "metadata": {},
   "outputs": [],
   "source": [
    "import pandas as pd\n",
    "import numpy as np\n",
    "from scipy.fft import rfft,rfftfreq\n",
    "from scipy import signal\n",
    "import matplotlib.pyplot as plt\n",
    "from pathlib import Path"
   ]
  },
  {
   "cell_type": "code",
   "execution_count": 2,
   "metadata": {},
   "outputs": [],
   "source": [
    "def filter_signal(sig, pass_freq, stop_freq, attenuation, sample_f):\n",
    "    N, Wn = signal.buttord(wp=pass_freq, ws=stop_freq, gpass=1, gstop=attenuation, analog=False, fs=sample_f)\n",
    "    sos = signal.butter(N,Wn,fs=sample_f, btype=\"low\", analog=False, output=\"sos\")\n",
    "    return signal.sosfilt(sos, sig)"
   ]
  },
  {
   "cell_type": "code",
   "execution_count": 3,
   "metadata": {},
   "outputs": [],
   "source": [
    "# Create a function to downsample the dataframe using the median\n",
    "def downsample_with_median(df, original_freq, target_freq):\n",
    "    # Calculate the downsampling factor\n",
    "    factor = original_freq // target_freq\n",
    "    \n",
    "    # Use the rolling window to calculate the median for each window of 'factor' rows\n",
    "    downsampled_df = df.rolling(window=factor).median().iloc[factor-1::factor].reset_index(drop=True)\n",
    "    \n",
    "    return downsampled_df\n",
    "\n",
    "# Assuming 'df' is the original dataframe with 3200Hz frequency\n",
    "original_freq = 3200\n",
    "target_freq = 200"
   ]
  },
  {
   "cell_type": "code",
   "execution_count": null,
   "metadata": {},
   "outputs": [],
   "source": [
    "def downsample_with_mean(df, original_freq, target_freq):\n",
    "    # Calculate the downsampling factor\n",
    "    factor = original_freq // target_freq\n",
    "    \n",
    "    downsampled_df = df.rolling(window=factor).mean().iloc[factor-1::factor].reset_index(drop=True)\n",
    "    \n",
    "    return downsampled_df"
   ]
  },
  {
   "cell_type": "code",
   "execution_count": null,
   "metadata": {},
   "outputs": [],
   "source": [
    "destination = Path(f\"subsampled_{target_freq}_filter\")\n",
    "destination.mkdir(parents=True)"
   ]
  },
  {
   "cell_type": "code",
   "execution_count": null,
   "metadata": {},
   "outputs": [],
   "source": [
    "for file in Path(\"labeled_dataset_typed\").glob(\"benchy_*\"):\n",
    "    print(file)\n",
    "    df = pd.read_parquet(file)\n",
    "    df[\"accel_x\"] = filter_signal(df[\"accel_x\"],pass_freq,stop_freq,attenuation,fs)\n",
    "    df[\"accel_y\"] = filter_signal(df[\"accel_y\"],pass_freq,stop_freq,attenuation,fs)\n",
    "    df[\"accel_z\"] = filter_signal(df[\"accel_z\"],pass_freq,stop_freq,attenuation,fs)\n",
    "    downsampled_df = downsample_with_median(df.drop(columns=[\"class\"]), original_freq, target_freq)\n",
    "    downsampled_df[\"class\"] = df[\"class\"].unique()[0]\n",
    "    downsampled_df[\"class\"] = downsampled_df[\"class\"].astype(\"category\")\n",
    "    downsampled_df[\"accel_x\"] = downsampled_df[\"accel_x\"].astype(\"int16\")\n",
    "    downsampled_df[\"accel_y\"] = downsampled_df[\"accel_y\"].astype(\"int16\")\n",
    "    downsampled_df[\"accel_z\"] = downsampled_df[\"accel_z\"].astype(\"int16\")\n",
    "    downsampled_df.to_parquet(destination/file.name,compression='gzip')"
   ]
  },
  {
   "cell_type": "code",
   "execution_count": null,
   "metadata": {},
   "outputs": [],
   "source": [
    "test = df[\"accel_x\"][100:3300].copy()\n",
    "fft_result = np.abs(rfft(test.values))\n",
    "fft_freq = rfftfreq(len(test), 1/fs)\n",
    "\n",
    "plt.figure(figsize=(12, 6))\n",
    "plt.subplot(2, 1, 2)\n",
    "plt.plot(fft_freq, fft_result)\n",
    "plt.title('FFT of Signal')\n",
    "plt.tight_layout()\n",
    "plt.show()"
   ]
  },
  {
   "cell_type": "code",
   "execution_count": null,
   "metadata": {},
   "outputs": [],
   "source": [
    "df[\"accel_x\"] = filter_signal(df[\"accel_x\"],pass_freq,stop_freq,attenuation,fs)\n",
    "df[\"accel_y\"] = filter_signal(df[\"accel_y\"],pass_freq,stop_freq,attenuation,fs)\n",
    "df[\"accel_z\"] = filter_signal(df[\"accel_z\"],pass_freq,stop_freq,attenuation,fs)"
   ]
  },
  {
   "cell_type": "code",
   "execution_count": null,
   "metadata": {},
   "outputs": [],
   "source": [
    "t = np.linspace(0, 3300, 3200, endpoint=False)\n",
    "test2 = df[\"accel_y\"][100:3300].copy()\n",
    "fft_result = np.abs(rfft(test2.values))\n",
    "fft_freq = rfftfreq(len(test2), 1/fs)"
   ]
  },
  {
   "cell_type": "code",
   "execution_count": null,
   "metadata": {},
   "outputs": [],
   "source": [
    "plt.figure(figsize=(12, 6))\n",
    "plt.subplot(2, 1, 2)\n",
    "plt.plot(fft_freq, fft_result)\n",
    "plt.title('FFT of Signal')\n",
    "plt.tight_layout()\n",
    "plt.show()"
   ]
  },
  {
   "cell_type": "code",
   "execution_count": null,
   "metadata": {},
   "outputs": [],
   "source": []
  }
 ],
 "metadata": {
  "kernelspec": {
   "display_name": "art_tagging",
   "language": "python",
   "name": "python3"
  },
  "language_info": {
   "codemirror_mode": {
    "name": "ipython",
    "version": 3
   },
   "file_extension": ".py",
   "mimetype": "text/x-python",
   "name": "python",
   "nbconvert_exporter": "python",
   "pygments_lexer": "ipython3",
   "version": "3.11.9"
  }
 },
 "nbformat": 4,
 "nbformat_minor": 2
}
