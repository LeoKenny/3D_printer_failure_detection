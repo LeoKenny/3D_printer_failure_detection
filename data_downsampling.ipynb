{
 "cells": [
  {
   "cell_type": "code",
   "execution_count": 1,
   "metadata": {},
   "outputs": [],
   "source": [
    "import pandas as pd\n",
    "import numpy as np\n",
    "from scipy.fft import rfft,rfftfreq\n",
    "from scipy import signal\n",
    "import matplotlib.pyplot as plt\n",
    "from pathlib import Path"
   ]
  },
  {
   "cell_type": "code",
   "execution_count": 2,
   "metadata": {},
   "outputs": [],
   "source": [
    "# Assuming 'df' is the original dataframe with 3200Hz frequency\n",
    "original_freq = 3200\n",
    "target_freq = 200"
   ]
  },
  {
   "cell_type": "code",
   "execution_count": 3,
   "metadata": {},
   "outputs": [],
   "source": [
    "def filter_signal(sig, pass_freq, stop_freq, attenuation, sample_f):\n",
    "    N, Wn = signal.buttord(wp=pass_freq, ws=stop_freq, gpass=1, gstop=attenuation, analog=False, fs=sample_f)\n",
    "    sos = signal.butter(N,Wn,fs=sample_f, btype=\"low\", analog=False, output=\"sos\")\n",
    "    return signal.sosfilt(sos, sig)\n",
    "\n",
    "def create_filter(pass_freq, stop_freq, attenuation, sample_f):\n",
    "    N, Wn = signal.buttord(wp=pass_freq, ws=stop_freq, gpass=1, gstop=attenuation, analog=False, fs=sample_f)\n",
    "    sos = signal.butter(N,Wn,fs=sample_f, btype=\"low\", analog=False, output=\"sos\")\n",
    "    return sos"
   ]
  },
  {
   "cell_type": "code",
   "execution_count": 3,
   "metadata": {},
   "outputs": [],
   "source": [
    "# Create a function to downsample the dataframe using the median\n",
    "def downsample_with_median(df, original_freq, target_freq):\n",
    "    # Calculate the downsampling factor\n",
    "    factor = original_freq // target_freq\n",
    "    \n",
    "    # Use the rolling window to calculate the median for each window of 'factor' rows\n",
    "    downsampled_df = df.rolling(window=factor).median().iloc[factor-1::factor].reset_index(drop=True)\n",
    "    \n",
    "    return downsampled_df"
   ]
  },
  {
   "cell_type": "code",
   "execution_count": 5,
   "metadata": {},
   "outputs": [],
   "source": [
    "def downsample_with_mean(df, original_freq, target_freq):\n",
    "    # Calculate the downsampling factor\n",
    "    factor = original_freq // target_freq\n",
    "    \n",
    "    downsampled_df = df.rolling(window=factor).mean().iloc[factor-1::factor].reset_index(drop=True)\n",
    "    \n",
    "    return downsampled_df"
   ]
  },
  {
   "cell_type": "code",
   "execution_count": 6,
   "metadata": {},
   "outputs": [],
   "source": [
    "def downsample(df, original_freq, target_freq):\n",
    "    # Calculate the downsampling factor\n",
    "    factor = original_freq // target_freq\n",
    "    \n",
    "    downsampled_df = df.iloc[factor-1::factor].reset_index(drop=True)\n",
    "    \n",
    "    return downsampled_df"
   ]
  },
  {
   "cell_type": "markdown",
   "metadata": {},
   "source": [
    "##### Downsampling"
   ]
  },
  {
   "cell_type": "code",
   "execution_count": 15,
   "metadata": {},
   "outputs": [
    {
     "data": {
      "text/plain": [
       "'TCC_data/processed_dataset/labeled_dataset_downsample_200_filter'"
      ]
     },
     "execution_count": 15,
     "metadata": {},
     "output_type": "execute_result"
    }
   ],
   "source": [
    "f\"TCC_data/processed_dataset/labeled_dataset_downsample_{target_freq}_filter\""
   ]
  },
  {
   "cell_type": "code",
   "execution_count": 7,
   "metadata": {},
   "outputs": [],
   "source": [
    "destination = Path(f\"TCC_data/processed_dataset/labeled_dataset_downsample_{target_freq}_filter\")\n",
    "destination.mkdir(parents=True)"
   ]
  },
  {
   "cell_type": "code",
   "execution_count": 8,
   "metadata": {},
   "outputs": [],
   "source": [
    "pass_freq = 80      # Passband frequency (Hz)\n",
    "stop_freq = 100      # Stopband frequency (Hz)\n",
    "attenuation = 40    # Attenuation (dB)\n",
    "sample_f = 3200     # Sampling frequency (Hz)"
   ]
  },
  {
   "cell_type": "code",
   "execution_count": 9,
   "metadata": {},
   "outputs": [
    {
     "name": "stdout",
     "output_type": "stream",
     "text": [
      "TCC_data/labeled_dataset_typed/benchy_10_temp_230.parquet.gzip - 16271000 - 1016937\n",
      "TCC_data/labeled_dataset_typed/benchy_11_temp_230.parquet.gzip - 15575000 - 973437\n",
      "TCC_data/labeled_dataset_typed/benchy_12_temp_230.parquet.gzip - 17189410 - 1074338\n",
      "TCC_data/labeled_dataset_typed/benchy_13_healthy.parquet.gzip - 16603860 - 1037741\n",
      "TCC_data/labeled_dataset_typed/benchy_14_temp_220.parquet.gzip - 16912500 - 1057031\n",
      "TCC_data/labeled_dataset_typed/benchy_15_loose_head.parquet.gzip - 16618500 - 1038656\n",
      "TCC_data/labeled_dataset_typed/benchy_16_loose_head.parquet.gzip - 16640400 - 1040025\n",
      "TCC_data/labeled_dataset_typed/benchy_17_temp_220.parquet.gzip - 16420600 - 1026287\n",
      "TCC_data/labeled_dataset_typed/benchy_18_loose_head.parquet.gzip - 17144000 - 1071500\n",
      "TCC_data/labeled_dataset_typed/benchy_19_loose_head.parquet.gzip - 15867000 - 991687\n",
      "TCC_data/labeled_dataset_typed/benchy_1_healthy.parquet.gzip - 16239200 - 1014950\n",
      "TCC_data/labeled_dataset_typed/benchy_20_loose_head.parquet.gzip - 16666000 - 1041625\n",
      "TCC_data/labeled_dataset_typed/benchy_21_nozzle_03.parquet.gzip - 16735000 - 1045937\n",
      "TCC_data/labeled_dataset_typed/benchy_22_healthy.parquet.gzip - 15867000 - 991687\n",
      "TCC_data/labeled_dataset_typed/benchy_23_healthy.parquet.gzip - 16635000 - 1039687\n",
      "TCC_data/labeled_dataset_typed/benchy_23_nozzle_02.parquet.gzip - 15822000 - 988875\n",
      "TCC_data/labeled_dataset_typed/benchy_24_nozzle_02.parquet.gzip - 15914000 - 994625\n",
      "TCC_data/labeled_dataset_typed/benchy_25_temp_230.parquet.gzip - 15811500 - 988218\n",
      "TCC_data/labeled_dataset_typed/benchy_26_nozzle_03.parquet.gzip - 15659000 - 978687\n",
      "TCC_data/labeled_dataset_typed/benchy_27_nozzle_02.parquet.gzip - 16683500 - 1042718\n",
      "TCC_data/labeled_dataset_typed/benchy_2_healthy.parquet.gzip - 16489000 - 1030562\n",
      "TCC_data/labeled_dataset_typed/benchy_3_healthy.parquet.gzip - 15855000 - 990937\n",
      "TCC_data/labeled_dataset_typed/benchy_4_temp_220.parquet.gzip - 16411900 - 1025743\n",
      "TCC_data/labeled_dataset_typed/benchy_5_temp_230.parquet.gzip - 16430900 - 1026931\n",
      "TCC_data/labeled_dataset_typed/benchy_6_temp_230.parquet.gzip - 9688292 - 605518\n",
      "TCC_data/labeled_dataset_typed/benchy_7_temp_220.parquet.gzip - 15636000 - 977250\n",
      "TCC_data/labeled_dataset_typed/benchy_8_healthy.parquet.gzip - 16618000 - 1038625\n",
      "TCC_data/labeled_dataset_typed/benchy_9_temp_220.parquet.gzip - 16432500 - 1027031\n"
     ]
    }
   ],
   "source": [
    "sos = create_filter(pass_freq,stop_freq,attenuation,sample_f)\n",
    "\n",
    "for file in Path(\"TCC_data/labeled_dataset_typed\").glob(\"benchy_*\"):\n",
    "    df = pd.read_parquet(file)\n",
    "    df[\"accel_x\"] = signal.sosfilt(sos, df[\"accel_x\"])\n",
    "    df[\"accel_y\"] = signal.sosfilt(sos, df[\"accel_y\"])\n",
    "    df[\"accel_z\"] = signal.sosfilt(sos, df[\"accel_z\"])\n",
    "    downsampled_df = downsample(df.drop(columns=[\"class\"]), original_freq, target_freq)\n",
    "    downsampled_df[\"class\"] = df[\"class\"].unique()[0]\n",
    "    downsampled_df[\"class\"] = downsampled_df[\"class\"].astype(\"category\")\n",
    "    downsampled_df[\"accel_x\"] = downsampled_df[\"accel_x\"].astype(\"int16\")\n",
    "    downsampled_df[\"accel_y\"] = downsampled_df[\"accel_y\"].astype(\"int16\")\n",
    "    downsampled_df[\"accel_z\"] = downsampled_df[\"accel_z\"].astype(\"int16\")\n",
    "    print(f\"{file} - {len(df.index)} - {len(downsampled_df.index)}\")\n",
    "    downsampled_df.to_parquet(destination/file.name,compression='gzip')"
   ]
  },
  {
   "cell_type": "markdown",
   "metadata": {},
   "source": [
    "##### Imagens para representação do TCC"
   ]
  },
  {
   "cell_type": "markdown",
   "metadata": {},
   "source": [
    "Downsampling tests"
   ]
  },
  {
   "cell_type": "code",
   "execution_count": 10,
   "metadata": {},
   "outputs": [
    {
     "data": {
      "image/png": "[encoded data removed]",
      "text/plain": [
       "<Figure size 1200x600 with 1 Axes>"
      ]
     },
     "metadata": {},
     "output_type": "display_data"
    }
   ],
   "source": [
    "test = df[\"accel_x\"][100:3300].copy()\n",
    "fft_result = np.abs(rfft(test.values))\n",
    "fft_freq = rfftfreq(len(test), 1/sample_f)\n",
    "\n",
    "plt.figure(figsize=(12, 6))\n",
    "plt.subplot(2, 1, 2)\n",
    "plt.plot(fft_freq, fft_result)\n",
    "plt.title('FFT of Signal')\n",
    "plt.tight_layout()\n",
    "plt.show()"
   ]
  },
  {
   "cell_type": "code",
   "execution_count": 11,
   "metadata": {},
   "outputs": [],
   "source": [
    "df[\"accel_x\"] = filter_signal(df[\"accel_x\"],pass_freq,stop_freq,attenuation,sample_f)\n",
    "df[\"accel_y\"] = filter_signal(df[\"accel_y\"],pass_freq,stop_freq,attenuation,sample_f)\n",
    "df[\"accel_z\"] = filter_signal(df[\"accel_z\"],pass_freq,stop_freq,attenuation,sample_f)"
   ]
  },
  {
   "cell_type": "code",
   "execution_count": 13,
   "metadata": {},
   "outputs": [],
   "source": [
    "t = np.linspace(0, 3300, 3200, endpoint=False)\n",
    "test2 = df[\"accel_y\"][100:3300].copy()\n",
    "fft_result = np.abs(rfft(test2.values))\n",
    "fft_freq = rfftfreq(len(test2), 1/sample_f)"
   ]
  },
  {
   "cell_type": "code",
   "execution_count": 14,
   "metadata": {},
   "outputs": [
    {
     "data": {
      "image/png": "[encoded data removed]",
      "text/plain": [
       "<Figure size 1200x600 with 1 Axes>"
      ]
     },
     "metadata": {},
     "output_type": "display_data"
    }
   ],
   "source": [
    "plt.figure(figsize=(12, 6))\n",
    "plt.subplot(2, 1, 2)\n",
    "plt.plot(fft_freq, fft_result)\n",
    "plt.title('FFT of Signal')\n",
    "plt.tight_layout()\n",
    "plt.show()"
   ]
  },
  {
   "cell_type": "code",
   "execution_count": null,
   "metadata": {},
   "outputs": [],
   "source": []
  }
 ],
 "metadata": {
  "kernelspec": {
   "display_name": "art_tagging",
   "language": "python",
   "name": "python3"
  },
  "language_info": {
   "codemirror_mode": {
    "name": "ipython",
    "version": 3
   },
   "file_extension": ".py",
   "mimetype": "text/x-python",
   "name": "python",
   "nbconvert_exporter": "python",
   "pygments_lexer": "ipython3",
   "version": "3.12.5"
  }
 },
 "nbformat": 4,
 "nbformat_minor": 2
}
