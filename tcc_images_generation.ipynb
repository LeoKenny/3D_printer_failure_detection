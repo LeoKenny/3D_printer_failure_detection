{
 "cells": [
  {
   "cell_type": "code",
   "execution_count": null,
   "metadata": {},
   "outputs": [],
   "source": [
    "from pathlib import Path\n",
    "import pandas as pd\n",
    "import matplotlib.pyplot as plt\n",
    "import numpy as np"
   ]
  },
  {
   "cell_type": "markdown",
   "metadata": {},
   "source": [
    "#### Amostras por classe"
   ]
  },
  {
   "cell_type": "code",
   "execution_count": null,
   "metadata": {},
   "outputs": [],
   "source": [
    "folder = Path(\"TCC_data\")\n",
    "folder_dataset = \"labeled_dataset_typed\""
   ]
  },
  {
   "cell_type": "code",
   "execution_count": null,
   "metadata": {},
   "outputs": [],
   "source": [
    "counter = dict()\n",
    "for file in (folder/folder_dataset).glob(\"benchy_*\"):\n",
    "    df = pd.read_parquet(file)\n",
    "    d = dict()\n",
    "    d.update(df[\"class\"].value_counts())\n",
    "    for key,value in d.items():\n",
    "        counter[key] = value + counter.get(key,0)"
   ]
  },
  {
   "cell_type": "code",
   "execution_count": null,
   "metadata": {},
   "outputs": [],
   "source": [
    "convert_keys = {\"temp_230\":\"Temp. 230\", \"temp_220\":\"Temp. 220\", \"healthy\":\"Saudável\", \"nozzle_03\":\"Nozzle 0,3\",\"nozzle_02\":\"Nozzle 0,2\", \"loose_head\":\"Carro Folg.\"}"
   ]
  },
  {
   "cell_type": "code",
   "execution_count": null,
   "metadata": {},
   "outputs": [],
   "source": [
    "conv_counter = {convert_keys[key]:value/1_000_000 for key,value in counter.items()}"
   ]
  },
  {
   "cell_type": "code",
   "execution_count": null,
   "metadata": {},
   "outputs": [],
   "source": [
    "bars = plt.bar(conv_counter.keys(),conv_counter.values())\n",
    "\n",
    "for bar in bars:\n",
    "    height = bar.get_height()\n",
    "    plt.text(\n",
    "        bar.get_x() + bar.get_width() / 2, \n",
    "        height, \n",
    "        f'{height:.4}', \n",
    "        ha='center', \n",
    "        va='bottom',\n",
    "        fontsize=12, \n",
    "        color='black'\n",
    "    )\n",
    "plt.xlabel(\"Classes\")\n",
    "plt.ylabel(\"Milhões de amostras\")\n",
    "plt.title(\"Quantidade de amostras por classe\")\n",
    "plt.show()\n",
    "# plt.savefig(folder/folder_dataset/\"amostras_classe.png\")"
   ]
  },
  {
   "cell_type": "markdown",
   "metadata": {},
   "source": [
    "#### Subamostragem"
   ]
  },
  {
   "cell_type": "code",
   "execution_count": null,
   "metadata": {},
   "outputs": [],
   "source": [
    "import numpy as np\n",
    "import matplotlib.pyplot as plt\n",
    "\n",
    "# Parameters\n",
    "sampling_rate = 500  # Sampling rate in Hz\n",
    "duration = 0.1  # Duration in seconds\n",
    "frequency = 0.1  # Frequency of the sine wave in Hz\n",
    "num_samples = int(sampling_rate * duration)  # Total number of samples\n",
    "highlight_interval = 16  # Interval of samples to highlight\n",
    "\n",
    "# Time array\n",
    "t = np.linspace(0, duration, num_samples, endpoint=False)\n",
    "\n",
    "# Generate sine wave\n",
    "sine_wave = np.sin(2 * np.pi * frequency * t)\n",
    "\n",
    "# Generate white noise\n",
    "noise = np.random.normal(0, 0.5, num_samples)\n",
    "\n",
    "# Add noise to sine wave\n",
    "signal = sine_wave + noise\n",
    "\n",
    "# Extract highlighted samples\n",
    "highlight_indices = np.arange(0, num_samples, highlight_interval)\n",
    "highlighted_times = t[highlight_indices]\n",
    "highlighted_signal = signal[highlight_indices]\n",
    "\n",
    "# Calculate bar width\n",
    "bar_width = duration / num_samples * 0.8  # Factor for slight spacing between bars\n",
    "\n",
    "# Create a figure with two subplots\n",
    "fig, axs = plt.subplots(1, 2, figsize=(16, 6))\n",
    "\n",
    "# Plot the full signal with highlighted bars in red\n",
    "for i in range(num_samples):\n",
    "    color = 'darkred' if i in highlight_indices else 'navy'\n",
    "    axs[0].bar(t[i], signal[i], color=color, width=bar_width)\n",
    "\n",
    "axs[0].set_xlabel('Time (s)')\n",
    "axs[0].set_ylabel('Amplitude')\n",
    "axs[0].set_title('Full Signal with Highlighted Bars')\n",
    "axs[0].grid(False)\n",
    "\n",
    "# Capture the axis limits from the full signal plot\n",
    "xlim = axs[0].get_xlim()\n",
    "ylim = axs[0].get_ylim()\n",
    "\n",
    "# Plot only the highlighted samples\n",
    "axs[1].bar(highlighted_times, highlighted_signal, color='darkred', width=bar_width)\n",
    "axs[1].set_xlabel('Time (s)')\n",
    "axs[1].set_ylabel('Amplitude')\n",
    "axs[1].set_title('Highlighted Samples')\n",
    "axs[1].set_xlim(xlim)  # Apply the same x-axis limits\n",
    "axs[1].set_ylim(ylim)  # Apply the same y-axis limits\n",
    "axs[1].grid(False)\n",
    "\n",
    "# Adjust layout to prevent overlap\n",
    "plt.tight_layout()\n",
    "\n",
    "# Show plot\n",
    "plt.show()\n"
   ]
  },
  {
   "cell_type": "markdown",
   "metadata": {},
   "source": [
    "#### FFT 2D IMAGE"
   ]
  },
  {
   "cell_type": "code",
   "execution_count": null,
   "metadata": {},
   "outputs": [],
   "source": [
    "import numpy as np\n",
    "import matplotlib.pyplot as plt\n",
    "\n",
    "# Assuming a generic image of size 44x4\n",
    "image = np.random.rand(4, 1000)*16 - 8  # Generate a random 44x4 image\n",
    "image[3,:] = image[0,:]"
   ]
  },
  {
   "cell_type": "code",
   "execution_count": null,
   "metadata": {},
   "outputs": [],
   "source": [
    "# Perform 2D Discrete Fourier Transform (DFT)\n",
    "dft_image = np.fft.fft2(image)\n",
    "\n",
    "# Shift the zero-frequency component to the center of the spectrum\n",
    "# dft_shifted = np.fft.fftshift(dft_image)\n",
    "\n",
    "# Compute the magnitude spectrum (for visualization)\n",
    "magnitude_spectrum = np.log10(np.abs(dft_image))\n",
    "\n",
    "# Plot the original image and its magnitude spectrum\n",
    "plt.figure(figsize=(12, 6))\n",
    "\n",
    "# Original image\n",
    "plt.subplot(1, 2, 1)\n",
    "plt.imshow(image, cmap='gray')\n",
    "plt.title('Original Image')\n",
    "plt.colorbar()\n",
    "\n",
    "# Magnitude Spectrum\n",
    "plt.subplot(1, 2, 2)\n",
    "plt.imshow(magnitude_spectrum, cmap='gray')  # Use log scale for better visualization\n",
    "plt.title('Magnitude Spectrum')\n",
    "plt.colorbar()\n",
    "\n",
    "# Adjust layout and show plot\n",
    "plt.tight_layout()\n",
    "plt.show()\n"
   ]
  },
  {
   "cell_type": "markdown",
   "metadata": {},
   "source": [
    "#### Filtro butterworth"
   ]
  },
  {
   "cell_type": "code",
   "execution_count": null,
   "metadata": {},
   "outputs": [],
   "source": [
    "import numpy as np\n",
    "from scipy import signal\n",
    "import matplotlib.pyplot as plt\n",
    "\n",
    "# Filter specifications\n",
    "pass_freq = 80      # Passband frequency (Hz)\n",
    "stop_freq = 100      # Stopband frequency (Hz)\n",
    "attenuation = 40    # Attenuation (dB)\n",
    "sample_f = 3200     # Sampling frequency (Hz)\n",
    "\n",
    "# Design the Butterworth filter\n",
    "N, Wn = signal.buttord(wp=pass_freq, ws=stop_freq, gpass=1, gstop=attenuation, analog=False, fs=sample_f)\n",
    "sos = signal.butter(N, Wn, fs=sample_f, btype=\"low\", analog=False, output=\"sos\")\n",
    "\n",
    "# Compute frequency response\n",
    "w, h = signal.sosfreqz(sos, worN=2000, fs=sample_f)\n",
    "\n",
    "# Plot magnitude response\n",
    "plt.figure(figsize=(6, 6))\n",
    "\n",
    "# Magnitude Response\n",
    "plt.subplot(2, 1, 1)\n",
    "plt.plot(w[:201], 20 * np.log10(np.abs(h[:201])), 'b')\n",
    "plt.title(f'Filtro Butterworth passa baixas de ordem {N}')\n",
    "plt.xlabel('Frequency (Hz)')\n",
    "plt.ylabel('Magnitude (dB)')\n",
    "plt.grid(True)\n",
    "plt.axvline(pass_freq, color='r', linestyle='--', label='Frequência de corte')\n",
    "plt.axvline(stop_freq, color='g', linestyle='--', label='Frequência de supressão')\n",
    "plt.legend()\n",
    "\n",
    "# Adjust layout\n",
    "plt.tight_layout()\n",
    "# Show plot\n",
    "plt.show()"
   ]
  }
 ],
 "metadata": {
  "kernelspec": {
   "display_name": "fd",
   "language": "python",
   "name": "python3"
  },
  "language_info": {
   "codemirror_mode": {
    "name": "ipython",
    "version": 3
   },
   "file_extension": ".py",
   "mimetype": "text/x-python",
   "name": "python",
   "nbconvert_exporter": "python",
   "pygments_lexer": "ipython3",
   "version": "3.12.5"
  }
 },
 "nbformat": 4,
 "nbformat_minor": 2
}
