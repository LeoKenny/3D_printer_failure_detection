{
 "cells": [
  {
   "cell_type": "code",
   "execution_count": null,
   "metadata": {},
   "outputs": [],
   "source": [
    "import numpy as np\n",
    "import pandas as pd\n",
    "\n",
    "from sklearn.decomposition import PCA\n",
    "from sklearn.metrics import precision_score, recall_score\n",
    "from sklearn.model_selection import train_test_split\n",
    "from sklearn.metrics import confusion_matrix\n",
    "\n",
    "import matplotlib.pyplot as plt\n",
    "import seaborn as sns\n",
    "\n",
    "from pathlib import Path\n",
    "import re\n",
    "import json\n",
    "\n",
    "import tensorflow as tf\n",
    "from tensorflow.keras.models import Sequential\n",
    "from tensorflow.keras.layers import (\n",
    "    LSTM,\n",
    "    Bidirectional,\n",
    "    Conv1D,\n",
    "    Dense,\n",
    "    Flatten,\n",
    "    Input,\n",
    "    MaxPooling1D,\n",
    "    TimeDistributed,\n",
    "    Dropout\n",
    ")\n",
    "from tensorflow.keras.utils import to_categorical\n",
    "from tensorflow.keras.callbacks import ModelCheckpoint"
   ]
  },
  {
   "cell_type": "markdown",
   "metadata": {},
   "source": [
    "### Evaluating"
   ]
  },
  {
   "cell_type": "code",
   "execution_count": null,
   "metadata": {},
   "outputs": [],
   "source": [
    "folder = Path(\"\")\n",
    "model_name = \"\""
   ]
  },
  {
   "cell_type": "code",
   "execution_count": null,
   "metadata": {},
   "outputs": [],
   "source": [
    "# Open the JSON file and read the data back into a dictionary\n",
    "with open(folder/'class_index.json', 'r') as json_file:\n",
    "    class_index = json.load(json_file)"
   ]
  },
  {
   "cell_type": "code",
   "execution_count": null,
   "metadata": {},
   "outputs": [],
   "source": [
    "class_index"
   ]
  },
  {
   "cell_type": "code",
   "execution_count": null,
   "metadata": {},
   "outputs": [],
   "source": [
    "with open('processed_labeled_image_data.npy', 'rb') as f:\n",
    "    x_data = np.load(f)\n",
    "\n",
    "with open('processed_labeled_image_result.npy', 'rb') as f:\n",
    "    y_data = np.load(f)"
   ]
  },
  {
   "cell_type": "code",
   "execution_count": null,
   "metadata": {},
   "outputs": [],
   "source": [
    "# with open(folder/'processed_labeled_filtered_normalized_sampled_data.npy', 'rb') as f:\n",
    "#     x_data = np.load(f)\n",
    "\n",
    "# with open(folder/'processed_labeled_filtered_normalized_sampled_result.npy', 'rb') as f:\n",
    "#     y_data = np.load(f)"
   ]
  },
  {
   "cell_type": "code",
   "execution_count": null,
   "metadata": {},
   "outputs": [],
   "source": [
    "y_data_categorical = to_categorical(y_data,num_classes=np.unique(y_data).shape[0])\n",
    "\n",
    "x_train, x_val, y_train, y_val = train_test_split(x_data,y_data_categorical,\n",
    "                                                  test_size=0.3,\n",
    "                                                  random_state=42,\n",
    "                                                  stratify=y_data_categorical)\n",
    "\n",
    "x_val, x_test, y_val, y_test = train_test_split(x_val,y_val,\n",
    "                                                  test_size=0.34,\n",
    "                                                  random_state=42,\n",
    "                                                  stratify=y_val)"
   ]
  },
  {
   "cell_type": "code",
   "execution_count": null,
   "metadata": {},
   "outputs": [],
   "source": [
    "# y_data_categorical = to_categorical(y_data,num_classes=np.unique(y_data).shape[0])\n",
    "\n",
    "# x_train, x_val, y_train, y_val = train_test_split(x_data,y_data_categorical,\n",
    "#                                                   test_size=0.3,\n",
    "#                                                   random_state=42,\n",
    "#                                                   stratify=y_data_categorical)"
   ]
  },
  {
   "cell_type": "code",
   "execution_count": null,
   "metadata": {},
   "outputs": [],
   "source": [
    "model = tf.keras.models.load_model(folder/f'best_{model_name}_model.keras')\n",
    "\n",
    "# Display the model architecture\n",
    "model.summary()"
   ]
  },
  {
   "cell_type": "code",
   "execution_count": null,
   "metadata": {},
   "outputs": [],
   "source": [
    "y_pred = model.predict(x_train)\n",
    "\n",
    "# Convert predictions to class labels\n",
    "y_pred_classes = np.argmax(y_pred, axis=1)\n",
    "y_classes = np.argmax(y_train, axis=1)\n",
    "\n",
    "# Calculate precision and recall for multi-class classification\n",
    "macro_precision = precision_score(y_classes, y_pred_classes, average='macro')\n",
    "macro_recall = recall_score(y_classes, y_pred_classes, average='macro')\n",
    "\n",
    "print(f\"Macro Precision: {macro_precision}\")\n",
    "print(f\"Macro Recall: {macro_recall}\")\n",
    "\n",
    "# Calculate precision and recall for multi-class classification\n",
    "micro_precision = precision_score(y_classes, y_pred_classes, average='micro')\n",
    "micro_recall = recall_score(y_classes, y_pred_classes, average='micro')\n",
    "\n",
    "print(f\"Micro Precision: {micro_precision}\")\n",
    "print(f\"Micro Recall: {micro_recall}\")\n",
    "\n",
    "# Create the confusion matrix\n",
    "conf_matrix = confusion_matrix(y_classes, y_pred_classes)\n",
    "\n",
    "# Convert to DataFrame for better readability\n",
    "conf_matrix_df = pd.DataFrame(conf_matrix, index=class_index.keys(), columns=class_index.keys())\n",
    "\n",
    "# Plot the confusion matrix\n",
    "plt.figure(figsize=(8, 6))\n",
    "sns.heatmap(conf_matrix_df, annot=True, fmt='d', cmap='Blues')\n",
    "plt.xlabel('Predito')\n",
    "plt.ylabel('Verdadeiro')\n",
    "plt.title(f'Matrix de Confusão - Treino - {model_name}')\n",
    "plt.savefig(folder/f\"confusion_matrix_train_{model_name}.png\")\n",
    "plt.show()"
   ]
  },
  {
   "cell_type": "code",
   "execution_count": null,
   "metadata": {},
   "outputs": [],
   "source": [
    "y_pred = model.predict(x_val)\n",
    "\n",
    "# Convert predictions to class labels\n",
    "y_pred_classes = np.argmax(y_pred, axis=1)\n",
    "y_classes = np.argmax(y_val, axis=1)\n",
    "\n",
    "# Calculate precision and recall for multi-class classification\n",
    "macro_precision = precision_score(y_classes, y_pred_classes, average='macro')\n",
    "macro_recall = recall_score(y_classes, y_pred_classes, average='macro')\n",
    "\n",
    "print(f\"Macro Precision: {macro_precision}\")\n",
    "print(f\"Macro Recall: {macro_recall}\")\n",
    "\n",
    "# Calculate precision and recall for multi-class classification\n",
    "micro_precision = precision_score(y_classes, y_pred_classes, average='micro')\n",
    "micro_recall = recall_score(y_classes, y_pred_classes, average='micro')\n",
    "\n",
    "print(f\"Micro Precision: {micro_precision}\")\n",
    "print(f\"Micro Recall: {micro_recall}\")\n",
    "\n",
    "with open(folder/f\"results_{model_name}.txt\", \"w+\") as f:\n",
    "    f.write(f\"\\\\newcommand{{\\\\{model_name.replace(\"_\",\"\")}MacroPrecision}}{{{macro_precision:0.4}}}\\n\")\n",
    "    f.write(f\"\\\\newcommand{{\\\\{model_name.replace(\"_\",\"\")}MacroRecall}}{{{macro_recall:0.4}}}\\n\")\n",
    "    f.write(f\"\\\\newcommand{{\\\\{model_name.replace(\"_\",\"\")}MicroPrecision}}{{{micro_precision:0.4}}}\\n\")\n",
    "    f.write(f\"\\\\newcommand{{\\\\{model_name.replace(\"_\",\"\")}MicroRecall}}{{{micro_recall:0.4}}}\\n\")\n",
    "\n",
    "# Create the confusion matrix\n",
    "conf_matrix = confusion_matrix(y_classes, y_pred_classes)\n",
    "\n",
    "# Convert to DataFrame for better readability\n",
    "conf_matrix_df = pd.DataFrame(conf_matrix, index=class_index.keys(), columns=class_index.keys())\n",
    "\n",
    "# Plot the confusion matrix\n",
    "plt.figure(figsize=(8, 6))\n",
    "sns.heatmap(conf_matrix_df, annot=True, fmt='d', cmap='Blues')\n",
    "plt.xlabel('Predito')\n",
    "plt.ylabel('Verdadeiro')\n",
    "plt.title(f'Matrix de Confusão - Teste - {model_name}')\n",
    "plt.savefig(folder/f\"confusion_matrix_train_{model_name}.png\")\n",
    "plt.show()"
   ]
  },
  {
   "cell_type": "markdown",
   "metadata": {},
   "source": [
    "#### History"
   ]
  },
  {
   "cell_type": "code",
   "execution_count": null,
   "metadata": {},
   "outputs": [],
   "source": [
    "# Path to the JSON file\n",
    "file_path = folder/f'training_history_{model_name}.json'\n",
    "\n",
    "# Read the JSON file\n",
    "with open(file_path, 'r') as f:\n",
    "    history = json.load(f)\n",
    "\n",
    "# Print the training history\n",
    "print(history.keys())"
   ]
  },
  {
   "cell_type": "code",
   "execution_count": null,
   "metadata": {},
   "outputs": [],
   "source": [
    "plt.figure(figsize=(10, 6))\n",
    "plt.plot(history[\"val_accuracy\"], marker='o', linestyle='-', color='navy', label=\"Acurácia de validação\")\n",
    "plt.plot(history[\"accuracy\"], marker='s', linestyle='-', color='darkorange', label=\"Acurácia de treino\")\n",
    "plt.axvline(x=np.array(history[\"val_accuracy\"]).argmax(), color='darkred', linestyle='--', label='Best model')\n",
    "plt.xlabel('Épocas')\n",
    "plt.ylabel('Acurácia')\n",
    "plt.legend()\n",
    "plt.savefig(folder/f\"train_epochs_{model_name}.png\")\n",
    "plt.show()"
   ]
  }
 ],
 "metadata": {
  "kernelspec": {
   "display_name": "failure_detection",
   "language": "python",
   "name": "python3"
  },
  "language_info": {
   "codemirror_mode": {
    "name": "ipython",
    "version": 3
   },
   "file_extension": ".py",
   "mimetype": "text/x-python",
   "name": "python",
   "nbconvert_exporter": "python",
   "pygments_lexer": "ipython3",
   "version": "3.12.4"
  }
 },
 "nbformat": 4,
 "nbformat_minor": 2
}
