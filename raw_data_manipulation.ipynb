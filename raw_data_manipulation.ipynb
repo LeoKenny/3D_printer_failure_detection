{
 "cells": [
  {
   "cell_type": "code",
   "execution_count": null,
   "metadata": {},
   "outputs": [],
   "source": [
    "import pandas as pd\n",
    "import numpy as np\n",
    "import plotly.express as px\n",
    "\n",
    "import plotly.io as pio\n",
    "pio.renderers.default = \"browser\"\n",
    "from pathlib import Path"
   ]
  },
  {
   "cell_type": "markdown",
   "metadata": {},
   "source": [
    "Bit flag position"
   ]
  },
  {
   "cell_type": "code",
   "execution_count": null,
   "metadata": {},
   "outputs": [],
   "source": [
    "OVERRUN_BIT = 0\n",
    "COMM_FAILURE_BIT = 1"
   ]
  },
  {
   "cell_type": "markdown",
   "metadata": {},
   "source": [
    "### Load acquisition data"
   ]
  },
  {
   "cell_type": "code",
   "execution_count": null,
   "metadata": {},
   "outputs": [],
   "source": [
    "path = list(Path(\"raw_dataset\").glob(\"benchy_27*\"))[0]\n",
    "print(path)\n",
    "df = pd.read_csv(path)\n",
    "df_test = df.drop_duplicates(subset=[\"block\"])"
   ]
  },
  {
   "cell_type": "markdown",
   "metadata": {},
   "source": [
    "### Data Analysis"
   ]
  },
  {
   "cell_type": "code",
   "execution_count": null,
   "metadata": {},
   "outputs": [],
   "source": [
    "samples = len(df.index)\n",
    "time = (samples/3200)/3600\n",
    "print(f\"Samples: {samples}\")\n",
    "print(f\"Estimated hours: {time}\")"
   ]
  },
  {
   "cell_type": "markdown",
   "metadata": {},
   "source": [
    "acquisition status analysis"
   ]
  },
  {
   "cell_type": "code",
   "execution_count": null,
   "metadata": {},
   "outputs": [],
   "source": [
    "overrun = np.array(list(map(lambda x: x & (1 << OVERRUN_BIT), df_test[\"overrun\"])))\n",
    "comm_failure = np.array(list(map(lambda x: x & (1 << COMM_FAILURE_BIT), df_test[\"overrun\"])))\n",
    "max_queue_size = np.array(df_test['queue_state']).max()\n",
    "count_issues = (df_test[\"count\"]>32).sum()\n",
    "\n",
    "print(f\"overrun failures: {overrun.sum()}\")\n",
    "print(f\"comm failures: {comm_failure.sum()}\")\n",
    "print(f\"max queue: {max_queue_size}\")\n",
    "print(f\"count issues: {count_issues}\")"
   ]
  },
  {
   "cell_type": "code",
   "execution_count": null,
   "metadata": {},
   "outputs": [],
   "source": [
    "df[df[\"block\"].diff() < 0]"
   ]
  },
  {
   "cell_type": "code",
   "execution_count": null,
   "metadata": {},
   "outputs": [],
   "source": [
    "df[df[\"block\"].diff() > 1]"
   ]
  },
  {
   "cell_type": "markdown",
   "metadata": {},
   "source": [
    "NaN values verification"
   ]
  },
  {
   "cell_type": "code",
   "execution_count": null,
   "metadata": {},
   "outputs": [],
   "source": [
    "print(f'Accel_x NaNs: {df[\"accel_x\"].isna().any()}')\n",
    "print(f'Accel_y NaNs: {df[\"accel_y\"].isna().any()}')\n",
    "print(f'Accel_z NaNs: {df[\"accel_z\"].isna().any()}')"
   ]
  },
  {
   "cell_type": "code",
   "execution_count": null,
   "metadata": {},
   "outputs": [],
   "source": [
    "df[df[\"accel_x\"].isna()]"
   ]
  },
  {
   "cell_type": "markdown",
   "metadata": {},
   "source": [
    "### Data view"
   ]
  },
  {
   "cell_type": "code",
   "execution_count": null,
   "metadata": {},
   "outputs": [],
   "source": [
    "df_view = df.iloc[16600000:17000000]"
   ]
  },
  {
   "cell_type": "code",
   "execution_count": null,
   "metadata": {},
   "outputs": [],
   "source": [
    "df_view[\"index\"] = df_view.index\n",
    "fig = px.line(df_view, x='index', y='accel_x', title='Sensor Data Over Time')\n",
    "fig.update_layout(xaxis_title='Time', yaxis_title='Sensor Value')\n",
    "fig.show()\n",
    "print(path)"
   ]
  },
  {
   "cell_type": "markdown",
   "metadata": {},
   "source": [
    "### Data Labeling"
   ]
  },
  {
   "cell_type": "code",
   "execution_count": null,
   "metadata": {},
   "outputs": [],
   "source": [
    "df_printing = df.iloc[70500:16754000]\n",
    "df_printing[\"class\"] = \"nozzle_02\"\n",
    "df_printing[\"class\"] = df_printing[\"class\"].astype(\"category\")\n",
    "df_printing = df_printing.drop(columns=[\"block\",\"count\",\"overrun\",\"queue_state\"])"
   ]
  },
  {
   "cell_type": "code",
   "execution_count": null,
   "metadata": {},
   "outputs": [],
   "source": [
    "print(f'Accel_x NaNs: {df_printing[\"accel_x\"].isna().any()}')\n",
    "print(f'Accel_y NaNs: {df_printing[\"accel_y\"].isna().any()}')\n",
    "print(f'Accel_z NaNs: {df_printing[\"accel_z\"].isna().any()}')"
   ]
  },
  {
   "cell_type": "code",
   "execution_count": null,
   "metadata": {},
   "outputs": [],
   "source": [
    "df_printing[\"accel_x\"] = df_printing[\"accel_x\"].astype(\"int16\")\n",
    "df_printing[\"accel_y\"] = df_printing[\"accel_y\"].astype(\"int16\")\n",
    "df_printing[\"accel_z\"] = df_printing[\"accel_z\"].astype(\"int16\")"
   ]
  },
  {
   "cell_type": "code",
   "execution_count": null,
   "metadata": {},
   "outputs": [],
   "source": [
    "df_printing.dtypes"
   ]
  },
  {
   "cell_type": "code",
   "execution_count": null,
   "metadata": {},
   "outputs": [],
   "source": [
    "print(path)"
   ]
  },
  {
   "cell_type": "code",
   "execution_count": null,
   "metadata": {},
   "outputs": [],
   "source": [
    "df_printing.to_parquet('labeled_dataset_typed/benchy_27_nozzle_02.parquet.gzip',\n",
    "              compression='gzip')"
   ]
  },
  {
   "cell_type": "markdown",
   "metadata": {},
   "source": [
    "Verify saved data"
   ]
  },
  {
   "cell_type": "code",
   "execution_count": null,
   "metadata": {},
   "outputs": [],
   "source": [
    "pd.read_parquet('labeled_dataset_typed/benchy_27_nozzle_02.parquet.gzip')"
   ]
  }
 ],
 "metadata": {
  "kernelspec": {
   "display_name": "art_tagging",
   "language": "python",
   "name": "python3"
  },
  "language_info": {
   "codemirror_mode": {
    "name": "ipython",
    "version": 3
   },
   "file_extension": ".py",
   "mimetype": "text/x-python",
   "name": "python",
   "nbconvert_exporter": "python",
   "pygments_lexer": "ipython3",
   "version": "3.11.9"
  }
 },
 "nbformat": 4,
 "nbformat_minor": 2
}
