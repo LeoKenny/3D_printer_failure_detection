{
 "cells": [
  {
   "cell_type": "code",
   "execution_count": 1,
   "metadata": {},
   "outputs": [],
   "source": [
    "import pandas as pd\n",
    "from pathlib import Path\n",
    "import re\n",
    "import numpy as np\n",
    "import json\n",
    "from tqdm import tqdm\n",
    "from multiprocessing import Pool, cpu_count\n",
    "from sklearn.decomposition import PCA\n",
    "import numpy as np"
   ]
  },
  {
   "cell_type": "code",
   "execution_count": 2,
   "metadata": {},
   "outputs": [],
   "source": [
    "timesteps = 10\n",
    "window_size = 44\n",
    "window_overlap = 0.5\n",
    "conversion_constant = (2.0*16.0)/8192\n",
    "folder = Path(\"TCC_data/processed_dataset/labeled_dataset_downsample_200_filter\")"
   ]
  },
  {
   "cell_type": "code",
   "execution_count": null,
   "metadata": {},
   "outputs": [],
   "source": [
    "print(\"test\")"
   ]
  },
  {
   "cell_type": "code",
   "execution_count": 3,
   "metadata": {},
   "outputs": [],
   "source": [
    "def extract_class(filename):\n",
    "    match = re.search(r'benchy_\\d+_(.*?)\\.parquet\\.gzip', filename)\n",
    "    if match:\n",
    "        return match.group(1)\n",
    "    return None"
   ]
  },
  {
   "cell_type": "code",
   "execution_count": 4,
   "metadata": {},
   "outputs": [],
   "source": [
    "def window_using_rolling(df,window=44,step=22,columns=[\"accel_x\",\"accel_y\",\"accel_z\"]):\n",
    "    for column in set(columns):\n",
    "        df[column] = df[column]*conversion_constant\n",
    "    rolling = df[columns].rolling(window=window,step=step)\n",
    "    return np.array(list(rolling)[2:])"
   ]
  },
  {
   "cell_type": "code",
   "execution_count": 9,
   "metadata": {},
   "outputs": [],
   "source": [
    "def image_extraction(dataset):\n",
    "    p_data = np.empty((0,*dataset.shape[1:]))\n",
    "\n",
    "    for sample in tqdm(dataset):\n",
    "        # Perform 2D Discrete Fourier Transform (DFT)\n",
    "        dft_image = np.fft.fft2(sample)\n",
    "\n",
    "        # Compute the magnitude spectrum (for visualization)\n",
    "        magnitude_spectrum = np.log10(np.abs(dft_image)+1)\n",
    "        p_data = np.vstack((p_data,np.reshape(magnitude_spectrum,(1,*magnitude_spectrum.shape))\n",
    "    ))\n",
    "\n",
    "    return p_data"
   ]
  },
  {
   "cell_type": "code",
   "execution_count": 6,
   "metadata": {},
   "outputs": [],
   "source": [
    "def feature_extraction(dataset,label):\n",
    "    p_data = np.empty((0,9))\n",
    "\n",
    "    for sample in dataset:\n",
    "        pca = PCA(n_components=1)\n",
    "        pca.fit(sample)\n",
    "        data = np.hstack([np.mean(sample,axis=0), np.std(sample,axis=0), pca.components_[0]])\n",
    "        p_data = np.vstack((p_data,data))\n",
    "\n",
    "    label_column = np.ones((p_data.shape[0], 1))*label\n",
    "    p_data = np.hstack((p_data,label_column))\n",
    "    return p_data"
   ]
  },
  {
   "cell_type": "code",
   "execution_count": 7,
   "metadata": {},
   "outputs": [
    {
     "name": "stdout",
     "output_type": "stream",
     "text": [
      "{'healthy', 'nozzle_03', 'loose_head', 'temp_220', 'nozzle_02', 'temp_230'}\n",
      "{'healthy': 0, 'temp_220': 1, 'temp_230': 2, 'nozzle_03': 3, 'nozzle_02': 4, 'loose_head': 5}\n"
     ]
    }
   ],
   "source": [
    "df_all = pd.DataFrame()\n",
    "list_classes = set()\n",
    "for file in folder.glob(\"benchy_*\"):\n",
    "    list_classes.add(extract_class(file.name))\n",
    "print(list_classes)\n",
    "\n",
    "class_index = {'healthy':0, 'temp_220':1, 'temp_230':2, 'nozzle_03':3,'nozzle_02':4, 'loose_head':5}\n",
    "print(class_index)\n",
    "with open(folder/\"class_index.json\", 'w') as json_file:\n",
    "    json.dump(class_index, json_file)"
   ]
  },
  {
   "cell_type": "markdown",
   "metadata": {},
   "source": [
    "# Image dataset data"
   ]
  },
  {
   "cell_type": "code",
   "execution_count": 10,
   "metadata": {},
   "outputs": [
    {
     "name": "stderr",
     "output_type": "stream",
     "text": [
      "100%|██████████| 46133/46133 [03:37<00:00, 211.70it/s] \n"
     ]
    }
   ],
   "source": [
    "x_data = np.empty((0, timesteps, window_size, 4))\n",
    "y_data = np.empty((0, 1))\n",
    "\n",
    "for file in folder.glob(\"benchy_1_*\"):\n",
    "    df = pd.read_parquet(file)\n",
    "    data = window_using_rolling(df, window=window_size, step=int(window_size*window_overlap), columns=[\"accel_x\", \"accel_y\", \"accel_z\", \"accel_x\"])\n",
    "    unique = df[\"class\"].unique()\n",
    "    if len(unique) != 1:\n",
    "        print(f\"failure: {file} - {unique}\")\n",
    "        break\n",
    "    else:\n",
    "        unique = unique[0]\n",
    "    \n",
    "    processed_data = image_extraction(data)"
   ]
  },
  {
   "cell_type": "code",
   "execution_count": 15,
   "metadata": {},
   "outputs": [
    {
     "data": {
      "text/plain": [
       "(46133, 44, 4)"
      ]
     },
     "execution_count": 15,
     "metadata": {},
     "output_type": "execute_result"
    }
   ],
   "source": [
    "data.shape"
   ]
  },
  {
   "cell_type": "code",
   "execution_count": 19,
   "metadata": {},
   "outputs": [
    {
     "data": {
      "image/png": "[encoded data removed]",
      "text/plain": [
       "<Figure size 1200x600 with 4 Axes>"
      ]
     },
     "metadata": {},
     "output_type": "display_data"
    }
   ],
   "source": [
    "import matplotlib.pyplot as plt\n",
    "# Perform 2D Discrete Fourier Transform (DFT)\n",
    "image = data[10000]\n",
    "dft_image = np.fft.fft2(image)\n",
    "\n",
    "# Shift the zero-frequency component to the center of the spectrum\n",
    "# dft_shifted = np.fft.fftshift(dft_image)\n",
    "\n",
    "# Compute the magnitude spectrum (for visualization)\n",
    "magnitude_spectrum = np.log10(np.abs(dft_image))\n",
    "\n",
    "# Plot the original image and its magnitude spectrum\n",
    "plt.figure(figsize=(12, 6))\n",
    "\n",
    "# Original image\n",
    "plt.subplot(1, 2, 1)\n",
    "plt.imshow(image, cmap='gray')\n",
    "plt.title('Original Image')\n",
    "plt.colorbar()\n",
    "\n",
    "# Magnitude Spectrum\n",
    "plt.subplot(1, 2, 2)\n",
    "plt.imshow(magnitude_spectrum, cmap='gray')  # Use log scale for better visualization\n",
    "plt.title('Magnitude Spectrum')\n",
    "plt.colorbar()\n",
    "\n",
    "# Adjust layout and show plot\n",
    "plt.tight_layout()\n",
    "plt.show()"
   ]
  },
  {
   "cell_type": "code",
   "execution_count": 36,
   "metadata": {},
   "outputs": [
    {
     "name": "stderr",
     "output_type": "stream",
     "text": [
      "  0%|          | 0/1 [03:32<?, ?it/s]:36, 33.15it/s] \n"
     ]
    },
    {
     "ename": "KeyboardInterrupt",
     "evalue": "",
     "output_type": "error",
     "traceback": [
      "\u001b[0;31m---------------------------------------------------------------------------\u001b[0m",
      "\u001b[0;31mIndexError\u001b[0m                                Traceback (most recent call last)",
      "File \u001b[0;32m~/miniforge3/envs/fd/lib/python3.12/multiprocessing/pool.py:856\u001b[0m, in \u001b[0;36mIMapIterator.next\u001b[0;34m(self, timeout)\u001b[0m\n\u001b[1;32m    855\u001b[0m \u001b[38;5;28;01mtry\u001b[39;00m:\n\u001b[0;32m--> 856\u001b[0m     item \u001b[38;5;241m=\u001b[39m \u001b[38;5;28;43mself\u001b[39;49m\u001b[38;5;241;43m.\u001b[39;49m\u001b[43m_items\u001b[49m\u001b[38;5;241;43m.\u001b[39;49m\u001b[43mpopleft\u001b[49m\u001b[43m(\u001b[49m\u001b[43m)\u001b[49m\n\u001b[1;32m    857\u001b[0m \u001b[38;5;28;01mexcept\u001b[39;00m \u001b[38;5;167;01mIndexError\u001b[39;00m:\n",
      "\u001b[0;31mIndexError\u001b[0m: pop from an empty deque",
      "\nDuring handling of the above exception, another exception occurred:\n",
      "\u001b[0;31mKeyboardInterrupt\u001b[0m                         Traceback (most recent call last)",
      "Cell \u001b[0;32mIn[36], line 33\u001b[0m\n\u001b[1;32m     31\u001b[0m \u001b[38;5;28;01mwith\u001b[39;00m Pool(\u001b[38;5;241m1\u001b[39m) \u001b[38;5;28;01mas\u001b[39;00m pool:\n\u001b[1;32m     32\u001b[0m     files \u001b[38;5;241m=\u001b[39m \u001b[38;5;28mlist\u001b[39m(folder\u001b[38;5;241m.\u001b[39mglob(\u001b[38;5;124m\"\u001b[39m\u001b[38;5;124mbenchy_*\u001b[39m\u001b[38;5;124m\"\u001b[39m))[:\u001b[38;5;241m1\u001b[39m]\n\u001b[0;32m---> 33\u001b[0m     \u001b[38;5;28;01mfor\u001b[39;00m result \u001b[38;5;129;01min\u001b[39;00m tqdm(pool\u001b[38;5;241m.\u001b[39mimap_unordered(process_file, files), total\u001b[38;5;241m=\u001b[39m\u001b[38;5;28mlen\u001b[39m(files)):\n\u001b[1;32m     34\u001b[0m         collect_results(result)\n",
      "File \u001b[0;32m~/miniforge3/envs/fd/lib/python3.12/site-packages/tqdm/std.py:1181\u001b[0m, in \u001b[0;36mtqdm.__iter__\u001b[0;34m(self)\u001b[0m\n\u001b[1;32m   1178\u001b[0m time \u001b[38;5;241m=\u001b[39m \u001b[38;5;28mself\u001b[39m\u001b[38;5;241m.\u001b[39m_time\n\u001b[1;32m   1180\u001b[0m \u001b[38;5;28;01mtry\u001b[39;00m:\n\u001b[0;32m-> 1181\u001b[0m \u001b[43m    \u001b[49m\u001b[38;5;28;43;01mfor\u001b[39;49;00m\u001b[43m \u001b[49m\u001b[43mobj\u001b[49m\u001b[43m \u001b[49m\u001b[38;5;129;43;01min\u001b[39;49;00m\u001b[43m \u001b[49m\u001b[43miterable\u001b[49m\u001b[43m:\u001b[49m\n\u001b[1;32m   1182\u001b[0m \u001b[43m        \u001b[49m\u001b[38;5;28;43;01myield\u001b[39;49;00m\u001b[43m \u001b[49m\u001b[43mobj\u001b[49m\n\u001b[1;32m   1183\u001b[0m \u001b[43m        \u001b[49m\u001b[38;5;66;43;03m# Update and possibly print the progressbar.\u001b[39;49;00m\n\u001b[1;32m   1184\u001b[0m \u001b[43m        \u001b[49m\u001b[38;5;66;43;03m# Note: does not call self.update(1) for speed optimisation.\u001b[39;49;00m\n",
      "File \u001b[0;32m~/miniforge3/envs/fd/lib/python3.12/multiprocessing/pool.py:861\u001b[0m, in \u001b[0;36mIMapIterator.next\u001b[0;34m(self, timeout)\u001b[0m\n\u001b[1;32m    859\u001b[0m     \u001b[38;5;28mself\u001b[39m\u001b[38;5;241m.\u001b[39m_pool \u001b[38;5;241m=\u001b[39m \u001b[38;5;28;01mNone\u001b[39;00m\n\u001b[1;32m    860\u001b[0m     \u001b[38;5;28;01mraise\u001b[39;00m \u001b[38;5;167;01mStopIteration\u001b[39;00m \u001b[38;5;28;01mfrom\u001b[39;00m \u001b[38;5;28;01mNone\u001b[39;00m\n\u001b[0;32m--> 861\u001b[0m \u001b[38;5;28;43mself\u001b[39;49m\u001b[38;5;241;43m.\u001b[39;49m\u001b[43m_cond\u001b[49m\u001b[38;5;241;43m.\u001b[39;49m\u001b[43mwait\u001b[49m\u001b[43m(\u001b[49m\u001b[43mtimeout\u001b[49m\u001b[43m)\u001b[49m\n\u001b[1;32m    862\u001b[0m \u001b[38;5;28;01mtry\u001b[39;00m:\n\u001b[1;32m    863\u001b[0m     item \u001b[38;5;241m=\u001b[39m \u001b[38;5;28mself\u001b[39m\u001b[38;5;241m.\u001b[39m_items\u001b[38;5;241m.\u001b[39mpopleft()\n",
      "File \u001b[0;32m~/miniforge3/envs/fd/lib/python3.12/threading.py:355\u001b[0m, in \u001b[0;36mCondition.wait\u001b[0;34m(self, timeout)\u001b[0m\n\u001b[1;32m    353\u001b[0m \u001b[38;5;28;01mtry\u001b[39;00m:    \u001b[38;5;66;03m# restore state no matter what (e.g., KeyboardInterrupt)\u001b[39;00m\n\u001b[1;32m    354\u001b[0m     \u001b[38;5;28;01mif\u001b[39;00m timeout \u001b[38;5;129;01mis\u001b[39;00m \u001b[38;5;28;01mNone\u001b[39;00m:\n\u001b[0;32m--> 355\u001b[0m         \u001b[43mwaiter\u001b[49m\u001b[38;5;241;43m.\u001b[39;49m\u001b[43macquire\u001b[49m\u001b[43m(\u001b[49m\u001b[43m)\u001b[49m\n\u001b[1;32m    356\u001b[0m         gotit \u001b[38;5;241m=\u001b[39m \u001b[38;5;28;01mTrue\u001b[39;00m\n\u001b[1;32m    357\u001b[0m     \u001b[38;5;28;01melse\u001b[39;00m:\n",
      "\u001b[0;31mKeyboardInterrupt\u001b[0m: "
     ]
    }
   ],
   "source": [
    "x_data = np.empty((0, timesteps, window_size, 4))\n",
    "y_data = np.empty((0, 1))\n",
    "\n",
    "def process_file(file):\n",
    "    df = pd.read_parquet(file)\n",
    "    data = window_using_rolling(df, window=window_size, step=int(window_size*window_overlap), columns=[\"accel_x\", \"accel_y\", \"accel_z\", \"accel_x\"])\n",
    "    unique = df[\"class\"].unique()\n",
    "    if len(unique) != 1:\n",
    "        print(f\"failure: {file} - {unique}\")\n",
    "        return None\n",
    "    else:\n",
    "        unique = unique[0]\n",
    "    \n",
    "    processed_data = image_extraction(data)\n",
    "    processed_data2 = processed_data[processed_data.shape[0] % timesteps:, :]\n",
    "    reshaped_data = processed_data2.reshape((\n",
    "        processed_data2.shape[0] // timesteps,\n",
    "        timesteps,\n",
    "        *processed_data2.shape[1:],\n",
    "    ))\n",
    "    y_data_temp = np.ones((reshaped_data.shape[0], 1)) * class_index[unique]\n",
    "    return reshaped_data, y_data_temp\n",
    "\n",
    "def collect_results(result):\n",
    "    global x_data, y_data\n",
    "    if result is not None:\n",
    "        reshaped_data, y_data_temp = result\n",
    "        x_data = np.vstack((x_data, reshaped_data))\n",
    "        y_data = np.vstack((y_data, y_data_temp))\n",
    "\n",
    "with Pool(1) as pool:\n",
    "    files = list(folder.glob(\"benchy_*\"))[:1]\n",
    "    for result in tqdm(pool.imap_unordered(process_file, files), total=len(files)):\n",
    "        collect_results(result)"
   ]
  },
  {
   "cell_type": "code",
   "execution_count": null,
   "metadata": {},
   "outputs": [],
   "source": [
    "np.save(folder/\"processed_labeled_image_data\",x_data,fix_imports=False)\n",
    "np.save(folder/\"processed_labeled_image_result\",y_data,fix_imports=False)"
   ]
  },
  {
   "cell_type": "markdown",
   "metadata": {},
   "source": [
    "# Feature Dataset"
   ]
  },
  {
   "cell_type": "markdown",
   "metadata": {},
   "source": [
    "Normalize data"
   ]
  },
  {
   "cell_type": "code",
   "execution_count": 8,
   "metadata": {},
   "outputs": [
    {
     "name": "stderr",
     "output_type": "stream",
     "text": [
      " 46%|████▋     | 13/28 [00:22<00:57,  3.83s/it]"
     ]
    },
    {
     "ename": "",
     "evalue": "",
     "output_type": "error",
     "traceback": [
      "\u001b[1;31mThe Kernel crashed while executing code in the current cell or a previous cell. \n",
      "\u001b[1;31mPlease review the code in the cell(s) to identify a possible cause of the failure. \n",
      "\u001b[1;31mClick <a href='https://aka.ms/vscodeJupyterKernelCrash'>here</a> for more info. \n",
      "\u001b[1;31mView Jupyter <a href='command:jupyter.viewOutput'>log</a> for further details."
     ]
    }
   ],
   "source": [
    "accel_x = np.array([])\n",
    "accel_y = np.array([])\n",
    "accel_z = np.array([])\n",
    "counter = dict()\n",
    "x_size = []\n",
    "x_value = []\n",
    "y_size = []\n",
    "y_value = []\n",
    "z_size = []\n",
    "z_value = []\n",
    "\n",
    "for file in tqdm(list(folder.glob(\"benchy_*\"))):\n",
    "    file_class = extract_class(file.name)\n",
    "    df = pd.read_parquet(file)\n",
    "    accel_x = np.concatenate([accel_x,df[\"accel_x\"]*conversion_constant])\n",
    "    accel_y = np.concatenate([accel_y,df[\"accel_y\"]*conversion_constant])\n",
    "    accel_z = np.concatenate([accel_z,df[\"accel_z\"]*conversion_constant])\n",
    "\n",
    "mean_accel_x = np.mean(accel_x)\n",
    "mean_accel_y = np.mean(accel_y)\n",
    "mean_accel_z = np.mean(accel_z)\n",
    "\n",
    "std_accel_x = np.std(accel_x)\n",
    "std_accel_y = np.std(accel_y)\n",
    "std_accel_z = np.std(accel_z)"
   ]
  },
  {
   "cell_type": "code",
   "execution_count": null,
   "metadata": {},
   "outputs": [],
   "source": [
    "timesteps = 10\n",
    "x_data = np.empty((0, timesteps, 9))\n",
    "y_data = np.empty((0, 1))\n",
    "\n",
    "def process_file(file):\n",
    "    df = pd.read_parquet(file)\n",
    "    \n",
    "    # Normalize accelerometer data\n",
    "    df[\"accel_x\"] = (df[\"accel_x\"] * conversion_constant - mean_accel_x) / std_accel_x\n",
    "    df[\"accel_y\"] = (df[\"accel_y\"] * conversion_constant - mean_accel_y) / std_accel_y\n",
    "    df[\"accel_z\"] = (df[\"accel_z\"] * conversion_constant - mean_accel_z) / std_accel_z\n",
    "\n",
    "    # Apply rolling window function\n",
    "    data = window_using_rolling(df)\n",
    "    \n",
    "    unique = df[\"class\"].unique()\n",
    "    if len(unique) != 1:\n",
    "        print(f\"failure: {file} - {unique}\")\n",
    "        return None, None\n",
    "    unique = unique[0]\n",
    "\n",
    "    # Feature extraction\n",
    "    processed_data = feature_extraction(data, class_index[unique])\n",
    "\n",
    "    # Reshape the data\n",
    "    processed_data2 = processed_data[processed_data.shape[0] % timesteps:, :-1]\n",
    "    reshaped_data = processed_data2.reshape((\n",
    "        processed_data2.shape[0] // timesteps,\n",
    "        timesteps,\n",
    "        *processed_data2.shape[1:],\n",
    "    ))\n",
    "\n",
    "    return reshaped_data, np.ones((reshaped_data.shape[0], 1)) * class_index[unique]\n",
    "\n",
    "def collect_results(result):\n",
    "    global x_data, y_data\n",
    "    if result is not None:\n",
    "        reshaped_data, y_data_temp = result\n",
    "        x_data = np.vstack((x_data, reshaped_data))\n",
    "        y_data = np.vstack((y_data, y_data_temp))\n",
    "\n",
    "# Create a pool of workers equal to the number of CPU cores\n",
    "with Pool(cpu_count()) as pool:\n",
    "    files = list(folder.glob(\"benchy_*\"))\n",
    "    futures = [pool.apply_async(process_file, (file,)) for file in files]\n",
    "    \n",
    "    for future in tqdm(futures):\n",
    "        result = future.get()\n",
    "        collect_results(result)"
   ]
  },
  {
   "cell_type": "code",
   "execution_count": null,
   "metadata": {},
   "outputs": [],
   "source": [
    "np.save(folder/\"processed_labeled_normalized_data\",x_data,fix_imports=False)\n",
    "np.save(folder/\"processed_labeled_normalized_result\",y_data,fix_imports=False)"
   ]
  }
 ],
 "metadata": {
  "kernelspec": {
   "display_name": "python_robotics",
   "language": "python",
   "name": "python3"
  },
  "language_info": {
   "codemirror_mode": {
    "name": "ipython",
    "version": 3
   },
   "file_extension": ".py",
   "mimetype": "text/x-python",
   "name": "python",
   "nbconvert_exporter": "python",
   "pygments_lexer": "ipython3",
   "version": "3.12.5"
  }
 },
 "nbformat": 4,
 "nbformat_minor": 2
}
