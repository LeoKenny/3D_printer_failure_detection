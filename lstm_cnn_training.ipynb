{
 "cells": [
  {
   "cell_type": "code",
   "execution_count": 6,
   "metadata": {},
   "outputs": [],
   "source": [
    "import numpy as np\n",
    "import pandas as pd\n",
    "import tensorflow as tf\n",
    "from pathlib import Path\n",
    "\n",
    "import plotly.express as px\n",
    "import re\n",
    "\n",
    "import plotly.io as pio\n",
    "pio.renderers.default = \"browser\"\n",
    "\n",
    "from tensorflow.keras.layers import (\n",
    "    LSTM,\n",
    "    Conv1D,\n",
    "    Dense,\n",
    "    Flatten,\n",
    "    Input,\n",
    "    MaxPooling1D,\n",
    "    TimeDistributed,\n",
    ")\n",
    "from tensorflow.keras.models import Sequential"
   ]
  },
  {
   "cell_type": "code",
   "execution_count": null,
   "metadata": {},
   "outputs": [],
   "source": [
    "def extract_class(filename):\n",
    "    match = re.search(r'benchy_\\d+_(.*?)\\.parquet\\.gzip', filename)\n",
    "    if match:\n",
    "        return match.group(1)\n",
    "    return None"
   ]
  },
  {
   "cell_type": "markdown",
   "metadata": {},
   "source": [
    "Printer Resolution: 0.1mm\n",
    "\n",
    "Printer Speed: 60mm/s\n",
    "\n",
    "Acquisition Sample rate: 3200 Hz\n",
    "\n",
    "Minimum print steps: 2"
   ]
  },
  {
   "cell_type": "code",
   "execution_count": null,
   "metadata": {},
   "outputs": [],
   "source": [
    "sample_rate = 3200\n",
    "print_resolution = 0.1\n",
    "print_speed = 60\n",
    "minimum_print_steps = 2\n",
    "min_print_window = minimum_print_steps*print_resolution/print_speed\n",
    "samples_per_window = min_print_window*sample_rate\n",
    "print(f\"Minimum print window: {min_print_window}\")\n",
    "print(f\"Samples per window: {samples_per_window}\")"
   ]
  },
  {
   "cell_type": "markdown",
   "metadata": {},
   "source": [
    "## Reproduction of Article model"
   ]
  },
  {
   "cell_type": "code",
   "execution_count": null,
   "metadata": {},
   "outputs": [],
   "source": [
    "def window_using_rolling(df,window=44,step=22,):\n",
    "    rolling = df[[\"accel_x\", \"accel_y\", \"accel_z\", \"accel_x\"]].rolling(window=window,step=step)\n",
    "    np.array(list(rolling)[2:])"
   ]
  },
  {
   "cell_type": "code",
   "execution_count": null,
   "metadata": {},
   "outputs": [],
   "source": [
    "df_all = pd.DataFrame()\n",
    "list_classes = set()\n",
    "for file in Path(\"downsampled_200\").glob(\"benchy_*\"):\n",
    "    list_classes.add(extract_class(file.name))\n",
    "print(list_classes)\n",
    "\n",
    "class_index = dict()\n",
    "for i,class_name in enumerate(list_classes):\n",
    "    class_index[class_name] = int(i)\n",
    "print(class_index)"
   ]
  },
  {
   "cell_type": "code",
   "execution_count": null,
   "metadata": {},
   "outputs": [],
   "source": [
    "for file in Path(\"downsampled_200\").glob(\"benchy_*\"):\n",
    "    print(extract_class(file))\n",
    "    df = pd.read_parquet(file)\n",
    "    df_all = pd.concat([df_all,df], ignore_index=True)"
   ]
  },
  {
   "cell_type": "code",
   "execution_count": 174,
   "metadata": {},
   "outputs": [],
   "source": [
    "df = pd.read_parquet(file)\n",
    "rolling = df[[\"accel_x\", \"accel_y\", \"accel_z\"]].rolling(window=44,step=22)\n",
    "rolling_list = list(rolling)[2:10]"
   ]
  },
  {
   "cell_type": "code",
   "execution_count": null,
   "metadata": {},
   "outputs": [],
   "source": [
    "array = np.array(rolling_list)\n",
    "array.shape"
   ]
  },
  {
   "cell_type": "code",
   "execution_count": 181,
   "metadata": {},
   "outputs": [],
   "source": [
    "reshaped_array = array.reshape((8, 44, 1, 4))"
   ]
  },
  {
   "cell_type": "code",
   "execution_count": null,
   "metadata": {},
   "outputs": [],
   "source": [
    "reshaped_array"
   ]
  },
  {
   "cell_type": "code",
   "execution_count": null,
   "metadata": {},
   "outputs": [],
   "source": [
    "X_train = np.random.rand(100, 64, 64)  # 100 samples, 64x64 features\n",
    "X_train.shape"
   ]
  },
  {
   "cell_type": "code",
   "execution_count": 166,
   "metadata": {},
   "outputs": [],
   "source": [
    "# Aggregate features into timesteps\n",
    "timesteps = 10\n",
    "X_train_reshaped = X_train.reshape((\n",
    "    X_train.shape[0] // timesteps,\n",
    "    timesteps,\n",
    "    *X_train.shape[1:],\n",
    "))"
   ]
  },
  {
   "cell_type": "code",
   "execution_count": null,
   "metadata": {},
   "outputs": [],
   "source": [
    "# Target -> for each sample // timestep group\n",
    "y_train = np.random.rand(  # samples // timesteps, 1 output\n",
    "    X_train_reshaped.shape[0],\n",
    "    1,\n",
    ")\n",
    "\n",
    "# LTSM-CNN\n",
    "model = Sequential([\n",
    "    Input((None, 64, 64)),\n",
    "    TimeDistributed(\n",
    "        Sequential([\n",
    "            Conv1D(filters=64, kernel_size=3, activation=\"relu\"),\n",
    "            MaxPooling1D(pool_size=2),\n",
    "            Flatten(),\n",
    "        ]),\n",
    "    ),\n",
    "    LSTM(100, activation=\"relu\", return_sequences=True),\n",
    "    LSTM(100, activation=\"relu\"),\n",
    "    Dense(1),\n",
    "])\n",
    "model.compile(optimizer=\"adam\", loss=\"mse\")\n",
    "model.summary()\n",
    "\n",
    "# Train\n",
    "history = model.fit(\n",
    "    X_train_reshaped,\n",
    "    y_train,\n",
    "    epochs=2,\n",
    "    batch_size=32,\n",
    ")\n",
    "\n",
    "# Results\n",
    "print(history.history)\n"
   ]
  }
 ],
 "metadata": {
  "kernelspec": {
   "display_name": "art_tagging",
   "language": "python",
   "name": "python3"
  },
  "language_info": {
   "codemirror_mode": {
    "name": "ipython",
    "version": 3
   },
   "file_extension": ".py",
   "mimetype": "text/x-python",
   "name": "python",
   "nbconvert_exporter": "python",
   "pygments_lexer": "ipython3",
   "version": "3.11.9"
  }
 },
 "nbformat": 4,
 "nbformat_minor": 2
}
